{
 "cells": [
  {
   "cell_type": "code",
   "execution_count": 8,
   "metadata": {},
   "outputs": [
    {
     "name": "stdout",
     "output_type": "stream",
     "text": [
      "Empty DataFrame\n",
      "Columns: [[{\"id\":\"cd535970-ec11-11e8-89ae-2e904411ec0e\", type:\"Full Time\", url:\"https://jobs.github.com/positions/cd535970-ec11-11e8-89ae-2e904411ec0e\", created_at:\"Mon Nov 19 15:44:44 UTC 2018\", company:\"Aon Cyber Solutions\", company_url:\"http://www.strozfriedberg.com/careers\", location:\"NY or LA\", title:\"Cybersecurity Firm Seeks Senior Developer\", description:\"\\u003cp\\u003eAon Cyber Solutions is looking for a Senior Developer in NY or LA. As part of an industry-leading team,  you will help empower results for our clients by delivering innovative and effective solutions supporting Risk.\\u003c/p\\u003e\\n\\u003cp\\u003eAPPLY HERE: \\u003ca href=\\\"https://us-strozfriedberg-aon.icims.com/jobs/24315/senior-developer/job\\\"\\u003ehttps://us-strozfriedberg-aon.icims.com/jobs/24315/senior-developer/job\\u003c/a\\u003e\\u003c/p\\u003e\\n\\u003cp\\u003ePosition Overview\\nJoin our expert software development team to create new customer-facing web applications. You will apply your expertise in web development and user interface design,  working in concert with subject matter experts in digital forensics,  incident response,  cybersecurity,  and threat intelligence. Your applications will convey deeply technical facts and analyses to a variety of consumers,  from risk managers to subject matter experts to C-level executives.\\u003c/p\\u003e\\n\\u003cp\\u003eThe responsibilities of this position include but are not limited to the following:\\u003c/p\\u003e\\n\\u003cul\\u003e\\n\\u003cli\\u003eDesign and develop pioneering web applications that cross the boundaries of security assessment,  digital forensics,  incident response.1,  malware analysis,  cybersecurity.1,  and cyberinsurance.\\u003c/li\\u003e\\n\\u003cli\\u003eServe as a senior developer on multiple product teams.\\u003c/li\\u003e\\n\\u003cli\\u003eCreate user interfaces,  APIs,  data visualizations,  and reports that provide our clients with insight into complex narratives and data sets.\\u003c/li\\u003e\\n\\u003cli\\u003eTranslate high-level requirements into working prototypes to generate user feedback and discussion.\\u003c/li\\u003e\\n\\u003cli\\u003eAdapt and apply cutting edge computer science to highly technical domains.\\u003c/li\\u003e\\n\\u003cli\\u003eParticipate in code reviews,  write test suites,  profile components,  and take ownership of our software,  source code,  tools,  and processes.\\u003c/li\\u003e\\n\\u003cli\\u003eMentor other developers.\\u003c/li\\u003e\\n\\u003cli\\u003eContribute to a positive,  collaborative culture for innovation.\\u003c/li\\u003e\\n\\u003c/ul\\u003e\\n\\u003cp\\u003eRequirements\\u003c/p\\u003e\\n\\u003cul\\u003e\\n\\u003cli\\u003e5+ years of software engineer experience.\\u003c/li\\u003e\\n\\u003cli\\u003eProficiency in frontend technologies (React,  Node.js,  Webpack).     Experience working with relational and NoSQL databases.\\u003c/li\\u003e\\n\\u003cli\\u003eStrong knowledge of HTTP and REST web services implementation.\\u003c/li\\u003e\\n\\u003cli\\u003eTest driven development and unit testing frameworks.\\u003c/li\\u003e\\n\\u003cli\\u003eModern DevOps experience.\\u003c/li\\u003e\\n\\u003cli\\u003eStandard software engineering tools (git,  Jenkins,  JIRA).\\u003c/li\\u003e\\n\\u003cli\\u003eThe proven ability to see things as they should be,  and to realize that vision.\\u003c/li\\u003e\\n\\u003cli\\u003eComfort with agile development and remote team environments.\\u003c/li\\u003e\\n\\u003cli\\u003eExcellence in verbal and written communication.\\u003c/li\\u003e\\n\\u003c/ul\\u003e\\n\\u003cp\\u003eDesired Skills\\u003c/p\\u003e\\n\\u003cul\\u003e\\n\\u003cli\\u003eTypeScript\\u003c/li\\u003e\\n\\u003cli\\u003ePython 3 and web frameworks such as Django or Flask.\\u003c/li\\u003e\\n\\u003cli\\u003eSQL \\u0026amp; relational database modeling.\\u003c/li\\u003e\\n\\u003cli\\u003eExperience in deployment to AWS,  especially serverless technologies.\\u003c/li\\u003e\\n\\u003cli\\u003eStrong knowledge of JWT and various web security models.\\u003c/li\\u003e\\n\\u003cli\\u003eD3.js,  Vega,  Bokeh,  Leaflet,  and other browser visualization libraries.   Experiment-driven design and iterative features-based development (A/B testing,  etc.).\\u003c/li\\u003e\\n\\u003cli\\u003eElasticSearch,  Apache Kafka,  AWS Kinesis,  PostgreSQL,  AWS Aurora.\\u003c/li\\u003e\\n\\u003cli\\u003eJava 8 and other JVM-based languages.\\u003c/li\\u003e\\n\\u003cli\\u003ePerformance monitoring and optimization.\\u003c/li\\u003e\\n\\u003cli\\u003eMobile development using Native or Cross-platform (Xamarin,  Ionic,  React Native).\\u003c/li\\u003e\\n\\u003c/ul\\u003e\\n\\u003cp\\u003eEducation Required\\u003c/p\\u003e\\n\\u003cul\\u003e\\n\\u003cli\\u003eBS or BA in Computer Science,  Mathematics,  or Statistics,  or equivalent experience.\\u003c/li\\u003e\\n\\u003c/ul\\u003e\\n\", how_to_apply:\"\\u003cp\\u003eAPPLY HERE: \\u003ca href=\\\"https://us-strozfriedberg-aon.icims.com/jobs/24315/senior-developer/job\\\"\\u003ehttps://us-strozfriedberg-aon.icims.com/jobs/24315/senior-developer/job\\u003c/a\\u003e\\u003c/p\\u003e\\n\", company_logo:null}, {\"id\":\"4cd29974-e48b-11e8-8478-fb9810f86b79\", type:\"Full Time\".1, url:\"https://jobs.github.com/positions/4cd29974-e48b-11e8-8478-fb9810f86b79\", created_at:\"Sat Nov 10 02:02:55 UTC 2018\", company:\"Sesame\", company_url:\"http://sesamecare.com\", location:\"New York; Berlin\", title:\"Software engineer (back end)\", description:\"\\u003cp\\u003eWe’re Sesame and we’re building a transformative health care platform that makes it easier and more affordable for all Americans to access high-quality health care.\\u003c/p\\u003e\\n\\u003cp\\u003eOur all-star team is primed for the journey of re-shaping American health care to put people like you and your family first. Unaffordable health care that’s hard to navigate is what keeps us up at night.\\u003c/p\\u003e\\n\\u003cp\\u003eWe believe everyone should be able to get high-quality care for a fair price. That’s why we’re working with doctors who share our vision for giving people a better way to get the care they need without the stress,  frustrations,  and rip-offs of the current health care system.\\u003c/p\\u003e\\n\\u003cp\\u003eWe’re passionate about building a new kind of health care economy that works for everyday people,  and this is just the beginning.\\u003c/p\\u003e\\n\\u003cp\\u003eWe must be on to something,  since we’re proud to say:\\u003c/p\\u003e\\n\\u003cul\\u003e\\n\\u003cli\\u003eWe have engineering teams in New York and Berlin\\u003c/li\\u003e\\n\\u003cli\\u003eWe've raised millions in funding to grow U.S. operations.\\u003c/li\\u003e\\n\\u003c/ul\\u003e\\n\\u003cp\\u003eWant to help? Join our team. We are a small group of engineers,  but we’re growing and looking for experienced back end engineers with a focus on Java to expand our ranks here in New York and Berlin.\\u003c/p\\u003e\\n\\u003cp\\u003e\\u003cstrong\\u003eAbout you:\\u003c/strong\\u003e\\u003c/p\\u003e\\n\\u003cul\\u003e\\n\\u003cli\\u003eComfortable with Java and microservices.\\u003c/li\\u003e\\n\\u003cli\\u003eYou seek and prefer simple solutions to complex problems.\\u003c/li\\u003e\\n\\u003cli\\u003eYou strive to write clean,  quality code and enjoy doing it.\\u003c/li\\u003e\\n\\u003cli\\u003eYou maintain a healthy balance between perfectionism and actually getting stuff done.\\u003c/li\\u003e\\n\\u003cli\\u003eYou either have experience with the technologies we currently use (or a strong interest in them) and the curiosity to learn new languages and frameworks.\\u003c/li\\u003e\\n\\u003cli\\u003eYou love developing software. You have 2+ years of industry experience.\\u003c/li\\u003e\\n\\u003cli\\u003eYou are a strong team player,  have strong writing skills,  and enjoy collaborating with others.\\u003c/li\\u003e\\n\\u003cli\\u003eYou are attuned to the fundamentals of user design and user experience.\\u003c/li\\u003e\\n\\u003c/ul\\u003e\\n\\u003cp\\u003e\\u003cstrong\\u003eOur technology stack includes:\\u003c/strong\\u003e\\u003c/p\\u003e\\n\\u003cul\\u003e\\n\\u003cli\\u003eJava 10\\u003c/li\\u003e\\n\\u003cli\\u003eSpring Boot\\u003c/li\\u003e\\n\\u003cli\\u003eKubernetes\\u003c/li\\u003e\\n\\u003cli\\u003eDocker\\u003c/li\\u003e\\n\\u003cli\\u003eGraphQL\\u003c/li\\u003e\\n\\u003cli\\u003ePub/Sub\\u003c/li\\u003e\\n\\u003cli\\u003ePostgres\\u003c/li\\u003e\\n\\u003cli\\u003ePython\\u003c/li\\u003e\\n\\u003cli\\u003eNodeJs\\u003c/li\\u003e\\n\\u003c/ul\\u003e\\n\\u003cp\\u003e\\u003cstrong\\u003eOur Offer:\\u003c/strong\\u003e\\nWorking with us means you will be challenged every day by our customers,  our partners,  and your peers. You can be yourself,  speak freely,  be trusted and respected.\\u003c/p\\u003e\\n\\u003cp\\u003e\\u003cstrong\\u003ePerks:\\u003c/strong\\u003e\\nCompetitive total compensation package with generous equity.\\nGenerous,  flexible vacation policy.\\nA fun and international work environment with teams in New York and Europe.\\nThe opportunity to work independently and occasionally remotely.\\nThe chance to learn first-hand about the biggest industry in the world.\\u003c/p\\u003e\\n\\u003cp\\u003eSesame is an equal opportunity employer and we value diversity at our company. We do not discriminate on the basis of race,  religion,  color,  national origin,  gender,  sexual orientation,  age,  marital status,  veteran status,  or disability status.\\u003c/p\\u003e\\n\", how_to_apply:\"\\u003cp\\u003e\\u003ca href=\\\"https://jobs.lever.co/sesamecare/26d259b5-5bcc-4ee9-a5d0-068d9c856381?lever-origin=applied\\u0026amp;lever-source%5B%5D=GitHub\\\"\\u003ehttps://jobs.lever.co/sesamecare/26d259b5-5bcc-4ee9-a5d0-068d9c856381?lever-origin=applied\\u0026amp;lever-source%5B%5D=GitHub\\u003c/a\\u003e\\u003c/p\\u003e\\n\", company_logo:\"https://jobs.github.com/rails/active_storage/blobs/eyJfcmFpbHMiOnsibWVzc2FnZSI6IkJBaHBBcWRXIiwiZXhwIjpudWxsLCJwdXIiOiJibG9iX2lkIn19--bfdeee729a4dbb9e1851c0362a1cf73bf3b6c646/03acb87e-f369-4964-950b-80043ff18ae1\"}, {\"id\":\"dc428b94-e42e-11e8-91e2-23879ca9e8b0\", type:\"Full Time\".2, url:\"https://jobs.github.com/positions/dc428b94-e42e-11e8-91e2-23879ca9e8b0\", created_at:\"Fri Nov 09 14:51:11 UTC 2018\", company:\"New York University\", company_url:null, location:\"New York,  New York 10001\", title:\"Technology Solutions Developer\", description:\"\\u003cp\\u003eAs a member of the Technology Development Group,  the Technology Solutions Developer is responsible for designing,  implementing,  and testing a wide variety of web applications,  and supporting the School of Law's web presence,  including academic and administrative functions. The responsibilities range from designing and developing end-to-end applications, ...]\n",
      "Index: []\n",
      "\n",
      "[0 rows x 140 columns]\n"
     ]
    }
   ],
   "source": [
    "import pandas as pd\n",
    "\n",
    "df = pd.read_csv (r'https://jobs.github.com/positions.json?description=python&location=new+york.csv')\n",
    "print (df)"
   ]
  },
  {
   "cell_type": "code",
   "execution_count": 20,
   "metadata": {},
   "outputs": [
    {
     "data": {
      "text/plain": [
       "Index(['[{\"id\":\"cd535970-ec11-11e8-89ae-2e904411ec0e\"', 'type:\"Full Time\"',\n",
       "       'url:\"https://jobs.github.com/positions/cd535970-ec11-11e8-89ae-2e904411ec0e\"',\n",
       "       'created_at:\"Mon Nov 19 15:44:44 UTC 2018\"',\n",
       "       'company:\"Aon Cyber Solutions\"',\n",
       "       'company_url:\"http://www.strozfriedberg.com/careers\"',\n",
       "       'location:\"NY or LA\"',\n",
       "       'title:\"Cybersecurity Firm Seeks Senior Developer\"',\n",
       "       'description:\"\\u003cp\\u003eAon Cyber Solutions is looking for a Senior Developer in NY or LA. As part of an industry-leading team',\n",
       "       ' you will help empower results for our clients by delivering innovative and effective solutions supporting Risk.\\u003c/p\\u003e\\n\\u003cp\\u003eAPPLY HERE: \\u003ca href=\\\"https://us-strozfriedberg-aon.icims.com/jobs/24315/senior-developer/job\\\"\\u003ehttps://us-strozfriedberg-aon.icims.com/jobs/24315/senior-developer/job\\u003c/a\\u003e\\u003c/p\\u003e\\n\\u003cp\\u003ePosition Overview\\nJoin our expert software development team to create new customer-facing web applications. You will apply your expertise in web development and user interface design',\n",
       "       ...\n",
       "       ' such as Drupal and WordPress.\\u003c/p\\u003e\\n\\u003cp\\u003ePreferred Experience:\\nExperience with a web development framework such as: .NET',\n",
       "       ' Laravel', ' Django',\n",
       "       ' or Rails. Experience with a JavaScript framework such as Vue',\n",
       "       ' Angular', ' or React.\\u003c/p\\u003e\\n\\u003cp\\u003eRequired Skills',\n",
       "       ' Knowledge and Abilities:\\nExcellent interpersonal and communication skills; ability and drive to learn new technologies and proactively look for ways to improve the School of Law's applications and web infrastructure.\\u003c/p\\u003e\\n\\u003cp\\u003ePreferred Skills',\n",
       "       ' Knowledge and Abilities:\\nKnowledge of module or plugin development for these frameworks is a plus. Fundamental knowledge of distributed version control systems and familiarity with one or more contemporary version control systems (e.g. Git/Mercurial/SVN)\\u003c/p\\u003e\\n\\u003cp\\u003eEOE/AA/Minorities/Females/Vet/Disabled/Sexual Orientation/Gender Identity\\u003c/p\\u003e\\n\\u003cp\\u003eApply Here: \\u003ca href=\\\"http://www.Click2apply.net/cyg9sy9m99zdm9v2\\\"\\u003ehttp://www.Click2apply.net/cyg9sy9m99zdm9v2\\u003c/a\\u003e\\u003c/p\\u003e\\n\\u003cp\\u003ePI105491972\\u003c/p\\u003e\\n\"',\n",
       "       'how_to_apply:\"\\u003cp\\u003eApply Here: \\u003ca href=\\\"http://www.Click2apply.net/cyg9sy9m99zdm9v2\\\"\\u003ehttp://www.Click2apply.net/cyg9sy9m99zdm9v2\\u003c/a\\u003e\\u003c/p\\u003e\\n\"',\n",
       "       'company_logo:null}]'],\n",
       "      dtype='object', length=140)"
      ]
     },
     "execution_count": 20,
     "metadata": {},
     "output_type": "execute_result"
    }
   ],
   "source": [
    "df.columns"
   ]
  },
  {
   "cell_type": "code",
   "execution_count": 21,
   "metadata": {},
   "outputs": [
    {
     "data": {
      "text/html": [
       "<div>\n",
       "<style scoped>\n",
       "    .dataframe tbody tr th:only-of-type {\n",
       "        vertical-align: middle;\n",
       "    }\n",
       "\n",
       "    .dataframe tbody tr th {\n",
       "        vertical-align: top;\n",
       "    }\n",
       "\n",
       "    .dataframe thead th {\n",
       "        text-align: right;\n",
       "    }\n",
       "</style>\n",
       "<table border=\"1\" class=\"dataframe\">\n",
       "  <thead>\n",
       "    <tr style=\"text-align: right;\">\n",
       "      <th></th>\n",
       "      <th>[{\"id\":\"cd535970-ec11-11e8-89ae-2e904411ec0e\"</th>\n",
       "      <th>type:\"Full Time\"</th>\n",
       "      <th>url:\"https://jobs.github.com/positions/cd535970-ec11-11e8-89ae-2e904411ec0e\"</th>\n",
       "      <th>created_at:\"Mon Nov 19 15:44:44 UTC 2018\"</th>\n",
       "      <th>company:\"Aon Cyber Solutions\"</th>\n",
       "      <th>company_url:\"http://www.strozfriedberg.com/careers\"</th>\n",
       "      <th>location:\"NY or LA\"</th>\n",
       "      <th>title:\"Cybersecurity Firm Seeks Senior Developer\"</th>\n",
       "      <th>description:\"\\u003cp\\u003eAon Cyber Solutions is looking for a Senior Developer in NY or LA. As part of an industry-leading team</th>\n",
       "      <th>you will help empower results for our clients by delivering innovative and effective solutions supporting Risk.\\u003c/p\\u003e\\n\\u003cp\\u003eAPPLY HERE: \\u003ca href=\\\"https://us-strozfriedberg-aon.icims.com/jobs/24315/senior-developer/job\\\"\\u003ehttps://us-strozfriedberg-aon.icims.com/jobs/24315/senior-developer/job\\u003c/a\\u003e\\u003c/p\\u003e\\n\\u003cp\\u003ePosition Overview\\nJoin our expert software development team to create new customer-facing web applications. You will apply your expertise in web development and user interface design</th>\n",
       "      <th>...</th>\n",
       "      <th>such as Drupal and WordPress.\\u003c/p\\u003e\\n\\u003cp\\u003ePreferred Experience:\\nExperience with a web development framework such as: .NET</th>\n",
       "      <th>Laravel</th>\n",
       "      <th>Django</th>\n",
       "      <th>or Rails. Experience with a JavaScript framework such as Vue</th>\n",
       "      <th>Angular</th>\n",
       "      <th>or React.\\u003c/p\\u003e\\n\\u003cp\\u003eRequired Skills</th>\n",
       "      <th>Knowledge and Abilities:\\nExcellent interpersonal and communication skills; ability and drive to learn new technologies and proactively look for ways to improve the School of Law's applications and web infrastructure.\\u003c/p\\u003e\\n\\u003cp\\u003ePreferred Skills</th>\n",
       "      <th>Knowledge and Abilities:\\nKnowledge of module or plugin development for these frameworks is a plus. Fundamental knowledge of distributed version control systems and familiarity with one or more contemporary version control systems (e.g. Git/Mercurial/SVN)\\u003c/p\\u003e\\n\\u003cp\\u003eEOE/AA/Minorities/Females/Vet/Disabled/Sexual Orientation/Gender Identity\\u003c/p\\u003e\\n\\u003cp\\u003eApply Here: \\u003ca href=\\\"http://www.Click2apply.net/cyg9sy9m99zdm9v2\\\"\\u003ehttp://www.Click2apply.net/cyg9sy9m99zdm9v2\\u003c/a\\u003e\\u003c/p\\u003e\\n\\u003cp\\u003ePI105491972\\u003c/p\\u003e\\n\"</th>\n",
       "      <th>how_to_apply:\"\\u003cp\\u003eApply Here: \\u003ca href=\\\"http://www.Click2apply.net/cyg9sy9m99zdm9v2\\\"\\u003ehttp://www.Click2apply.net/cyg9sy9m99zdm9v2\\u003c/a\\u003e\\u003c/p\\u003e\\n\"</th>\n",
       "      <th>company_logo:null}]</th>\n",
       "    </tr>\n",
       "  </thead>\n",
       "  <tbody>\n",
       "  </tbody>\n",
       "</table>\n",
       "<p>0 rows × 140 columns</p>\n",
       "</div>"
      ],
      "text/plain": [
       "Empty DataFrame\n",
       "Columns: [[{\"id\":\"cd535970-ec11-11e8-89ae-2e904411ec0e\", type:\"Full Time\", url:\"https://jobs.github.com/positions/cd535970-ec11-11e8-89ae-2e904411ec0e\", created_at:\"Mon Nov 19 15:44:44 UTC 2018\", company:\"Aon Cyber Solutions\", company_url:\"http://www.strozfriedberg.com/careers\", location:\"NY or LA\", title:\"Cybersecurity Firm Seeks Senior Developer\", description:\"\\u003cp\\u003eAon Cyber Solutions is looking for a Senior Developer in NY or LA. As part of an industry-leading team,  you will help empower results for our clients by delivering innovative and effective solutions supporting Risk.\\u003c/p\\u003e\\n\\u003cp\\u003eAPPLY HERE: \\u003ca href=\\\"https://us-strozfriedberg-aon.icims.com/jobs/24315/senior-developer/job\\\"\\u003ehttps://us-strozfriedberg-aon.icims.com/jobs/24315/senior-developer/job\\u003c/a\\u003e\\u003c/p\\u003e\\n\\u003cp\\u003ePosition Overview\\nJoin our expert software development team to create new customer-facing web applications. You will apply your expertise in web development and user interface design,  working in concert with subject matter experts in digital forensics,  incident response,  cybersecurity,  and threat intelligence. Your applications will convey deeply technical facts and analyses to a variety of consumers,  from risk managers to subject matter experts to C-level executives.\\u003c/p\\u003e\\n\\u003cp\\u003eThe responsibilities of this position include but are not limited to the following:\\u003c/p\\u003e\\n\\u003cul\\u003e\\n\\u003cli\\u003eDesign and develop pioneering web applications that cross the boundaries of security assessment,  digital forensics,  incident response.1,  malware analysis,  cybersecurity.1,  and cyberinsurance.\\u003c/li\\u003e\\n\\u003cli\\u003eServe as a senior developer on multiple product teams.\\u003c/li\\u003e\\n\\u003cli\\u003eCreate user interfaces,  APIs,  data visualizations,  and reports that provide our clients with insight into complex narratives and data sets.\\u003c/li\\u003e\\n\\u003cli\\u003eTranslate high-level requirements into working prototypes to generate user feedback and discussion.\\u003c/li\\u003e\\n\\u003cli\\u003eAdapt and apply cutting edge computer science to highly technical domains.\\u003c/li\\u003e\\n\\u003cli\\u003eParticipate in code reviews,  write test suites,  profile components,  and take ownership of our software,  source code,  tools,  and processes.\\u003c/li\\u003e\\n\\u003cli\\u003eMentor other developers.\\u003c/li\\u003e\\n\\u003cli\\u003eContribute to a positive,  collaborative culture for innovation.\\u003c/li\\u003e\\n\\u003c/ul\\u003e\\n\\u003cp\\u003eRequirements\\u003c/p\\u003e\\n\\u003cul\\u003e\\n\\u003cli\\u003e5+ years of software engineer experience.\\u003c/li\\u003e\\n\\u003cli\\u003eProficiency in frontend technologies (React,  Node.js,  Webpack).     Experience working with relational and NoSQL databases.\\u003c/li\\u003e\\n\\u003cli\\u003eStrong knowledge of HTTP and REST web services implementation.\\u003c/li\\u003e\\n\\u003cli\\u003eTest driven development and unit testing frameworks.\\u003c/li\\u003e\\n\\u003cli\\u003eModern DevOps experience.\\u003c/li\\u003e\\n\\u003cli\\u003eStandard software engineering tools (git,  Jenkins,  JIRA).\\u003c/li\\u003e\\n\\u003cli\\u003eThe proven ability to see things as they should be,  and to realize that vision.\\u003c/li\\u003e\\n\\u003cli\\u003eComfort with agile development and remote team environments.\\u003c/li\\u003e\\n\\u003cli\\u003eExcellence in verbal and written communication.\\u003c/li\\u003e\\n\\u003c/ul\\u003e\\n\\u003cp\\u003eDesired Skills\\u003c/p\\u003e\\n\\u003cul\\u003e\\n\\u003cli\\u003eTypeScript\\u003c/li\\u003e\\n\\u003cli\\u003ePython 3 and web frameworks such as Django or Flask.\\u003c/li\\u003e\\n\\u003cli\\u003eSQL \\u0026amp; relational database modeling.\\u003c/li\\u003e\\n\\u003cli\\u003eExperience in deployment to AWS,  especially serverless technologies.\\u003c/li\\u003e\\n\\u003cli\\u003eStrong knowledge of JWT and various web security models.\\u003c/li\\u003e\\n\\u003cli\\u003eD3.js,  Vega,  Bokeh,  Leaflet,  and other browser visualization libraries.   Experiment-driven design and iterative features-based development (A/B testing,  etc.).\\u003c/li\\u003e\\n\\u003cli\\u003eElasticSearch,  Apache Kafka,  AWS Kinesis,  PostgreSQL,  AWS Aurora.\\u003c/li\\u003e\\n\\u003cli\\u003eJava 8 and other JVM-based languages.\\u003c/li\\u003e\\n\\u003cli\\u003ePerformance monitoring and optimization.\\u003c/li\\u003e\\n\\u003cli\\u003eMobile development using Native or Cross-platform (Xamarin,  Ionic,  React Native).\\u003c/li\\u003e\\n\\u003c/ul\\u003e\\n\\u003cp\\u003eEducation Required\\u003c/p\\u003e\\n\\u003cul\\u003e\\n\\u003cli\\u003eBS or BA in Computer Science,  Mathematics,  or Statistics,  or equivalent experience.\\u003c/li\\u003e\\n\\u003c/ul\\u003e\\n\", how_to_apply:\"\\u003cp\\u003eAPPLY HERE: \\u003ca href=\\\"https://us-strozfriedberg-aon.icims.com/jobs/24315/senior-developer/job\\\"\\u003ehttps://us-strozfriedberg-aon.icims.com/jobs/24315/senior-developer/job\\u003c/a\\u003e\\u003c/p\\u003e\\n\", company_logo:null}, {\"id\":\"4cd29974-e48b-11e8-8478-fb9810f86b79\", type:\"Full Time\".1, url:\"https://jobs.github.com/positions/4cd29974-e48b-11e8-8478-fb9810f86b79\", created_at:\"Sat Nov 10 02:02:55 UTC 2018\", company:\"Sesame\", company_url:\"http://sesamecare.com\", location:\"New York; Berlin\", title:\"Software engineer (back end)\", description:\"\\u003cp\\u003eWe’re Sesame and we’re building a transformative health care platform that makes it easier and more affordable for all Americans to access high-quality health care.\\u003c/p\\u003e\\n\\u003cp\\u003eOur all-star team is primed for the journey of re-shaping American health care to put people like you and your family first. Unaffordable health care that’s hard to navigate is what keeps us up at night.\\u003c/p\\u003e\\n\\u003cp\\u003eWe believe everyone should be able to get high-quality care for a fair price. That’s why we’re working with doctors who share our vision for giving people a better way to get the care they need without the stress,  frustrations,  and rip-offs of the current health care system.\\u003c/p\\u003e\\n\\u003cp\\u003eWe’re passionate about building a new kind of health care economy that works for everyday people,  and this is just the beginning.\\u003c/p\\u003e\\n\\u003cp\\u003eWe must be on to something,  since we’re proud to say:\\u003c/p\\u003e\\n\\u003cul\\u003e\\n\\u003cli\\u003eWe have engineering teams in New York and Berlin\\u003c/li\\u003e\\n\\u003cli\\u003eWe've raised millions in funding to grow U.S. operations.\\u003c/li\\u003e\\n\\u003c/ul\\u003e\\n\\u003cp\\u003eWant to help? Join our team. We are a small group of engineers,  but we’re growing and looking for experienced back end engineers with a focus on Java to expand our ranks here in New York and Berlin.\\u003c/p\\u003e\\n\\u003cp\\u003e\\u003cstrong\\u003eAbout you:\\u003c/strong\\u003e\\u003c/p\\u003e\\n\\u003cul\\u003e\\n\\u003cli\\u003eComfortable with Java and microservices.\\u003c/li\\u003e\\n\\u003cli\\u003eYou seek and prefer simple solutions to complex problems.\\u003c/li\\u003e\\n\\u003cli\\u003eYou strive to write clean,  quality code and enjoy doing it.\\u003c/li\\u003e\\n\\u003cli\\u003eYou maintain a healthy balance between perfectionism and actually getting stuff done.\\u003c/li\\u003e\\n\\u003cli\\u003eYou either have experience with the technologies we currently use (or a strong interest in them) and the curiosity to learn new languages and frameworks.\\u003c/li\\u003e\\n\\u003cli\\u003eYou love developing software. You have 2+ years of industry experience.\\u003c/li\\u003e\\n\\u003cli\\u003eYou are a strong team player,  have strong writing skills,  and enjoy collaborating with others.\\u003c/li\\u003e\\n\\u003cli\\u003eYou are attuned to the fundamentals of user design and user experience.\\u003c/li\\u003e\\n\\u003c/ul\\u003e\\n\\u003cp\\u003e\\u003cstrong\\u003eOur technology stack includes:\\u003c/strong\\u003e\\u003c/p\\u003e\\n\\u003cul\\u003e\\n\\u003cli\\u003eJava 10\\u003c/li\\u003e\\n\\u003cli\\u003eSpring Boot\\u003c/li\\u003e\\n\\u003cli\\u003eKubernetes\\u003c/li\\u003e\\n\\u003cli\\u003eDocker\\u003c/li\\u003e\\n\\u003cli\\u003eGraphQL\\u003c/li\\u003e\\n\\u003cli\\u003ePub/Sub\\u003c/li\\u003e\\n\\u003cli\\u003ePostgres\\u003c/li\\u003e\\n\\u003cli\\u003ePython\\u003c/li\\u003e\\n\\u003cli\\u003eNodeJs\\u003c/li\\u003e\\n\\u003c/ul\\u003e\\n\\u003cp\\u003e\\u003cstrong\\u003eOur Offer:\\u003c/strong\\u003e\\nWorking with us means you will be challenged every day by our customers,  our partners,  and your peers. You can be yourself,  speak freely,  be trusted and respected.\\u003c/p\\u003e\\n\\u003cp\\u003e\\u003cstrong\\u003ePerks:\\u003c/strong\\u003e\\nCompetitive total compensation package with generous equity.\\nGenerous,  flexible vacation policy.\\nA fun and international work environment with teams in New York and Europe.\\nThe opportunity to work independently and occasionally remotely.\\nThe chance to learn first-hand about the biggest industry in the world.\\u003c/p\\u003e\\n\\u003cp\\u003eSesame is an equal opportunity employer and we value diversity at our company. We do not discriminate on the basis of race,  religion,  color,  national origin,  gender,  sexual orientation,  age,  marital status,  veteran status,  or disability status.\\u003c/p\\u003e\\n\", how_to_apply:\"\\u003cp\\u003e\\u003ca href=\\\"https://jobs.lever.co/sesamecare/26d259b5-5bcc-4ee9-a5d0-068d9c856381?lever-origin=applied\\u0026amp;lever-source%5B%5D=GitHub\\\"\\u003ehttps://jobs.lever.co/sesamecare/26d259b5-5bcc-4ee9-a5d0-068d9c856381?lever-origin=applied\\u0026amp;lever-source%5B%5D=GitHub\\u003c/a\\u003e\\u003c/p\\u003e\\n\", company_logo:\"https://jobs.github.com/rails/active_storage/blobs/eyJfcmFpbHMiOnsibWVzc2FnZSI6IkJBaHBBcWRXIiwiZXhwIjpudWxsLCJwdXIiOiJibG9iX2lkIn19--bfdeee729a4dbb9e1851c0362a1cf73bf3b6c646/03acb87e-f369-4964-950b-80043ff18ae1\"}, {\"id\":\"dc428b94-e42e-11e8-91e2-23879ca9e8b0\", type:\"Full Time\".2, url:\"https://jobs.github.com/positions/dc428b94-e42e-11e8-91e2-23879ca9e8b0\", created_at:\"Fri Nov 09 14:51:11 UTC 2018\", company:\"New York University\", company_url:null, location:\"New York,  New York 10001\", title:\"Technology Solutions Developer\", description:\"\\u003cp\\u003eAs a member of the Technology Development Group,  the Technology Solutions Developer is responsible for designing,  implementing,  and testing a wide variety of web applications,  and supporting the School of Law's web presence,  including academic and administrative functions. The responsibilities range from designing and developing end-to-end applications, ...]\n",
       "Index: []\n",
       "\n",
       "[0 rows x 140 columns]"
      ]
     },
     "execution_count": 21,
     "metadata": {},
     "output_type": "execute_result"
    }
   ],
   "source": [
    "df.head( )"
   ]
  },
  {
   "cell_type": "code",
   "execution_count": 31,
   "metadata": {},
   "outputs": [
    {
     "ename": "ModuleNotFoundError",
     "evalue": "No module named 'mysql'",
     "output_type": "error",
     "traceback": [
      "\u001b[1;31m---------------------------------------------------------------------------\u001b[0m",
      "\u001b[1;31mModuleNotFoundError\u001b[0m                       Traceback (most recent call last)",
      "\u001b[1;32m<ipython-input-31-8888caa3b88c>\u001b[0m in \u001b[0;36m<module>\u001b[1;34m\u001b[0m\n\u001b[0;32m      1\u001b[0m \u001b[1;32mimport\u001b[0m \u001b[0mpandas\u001b[0m \u001b[1;32mas\u001b[0m \u001b[0mpd\u001b[0m\u001b[1;33m\u001b[0m\u001b[1;33m\u001b[0m\u001b[0m\n\u001b[1;32m----> 2\u001b[1;33m \u001b[1;32mimport\u001b[0m \u001b[0mmysql\u001b[0m\u001b[1;33m\u001b[0m\u001b[1;33m\u001b[0m\u001b[0m\n\u001b[0m\u001b[0;32m      3\u001b[0m \u001b[1;32mimport\u001b[0m \u001b[0mxlrd\u001b[0m\u001b[1;33m\u001b[0m\u001b[1;33m\u001b[0m\u001b[0m\n\u001b[0;32m      4\u001b[0m \u001b[0mdata\u001b[0m \u001b[1;33m=\u001b[0m \u001b[0mpd\u001b[0m\u001b[1;33m.\u001b[0m\u001b[0mread_excel\u001b[0m \u001b[1;33m(\u001b[0m\u001b[1;34mr'D:\\dataextraction\\data.xlsx'\u001b[0m\u001b[1;33m)\u001b[0m\u001b[1;33m\u001b[0m\u001b[1;33m\u001b[0m\u001b[0m\n\u001b[0;32m      5\u001b[0m \u001b[0mdf\u001b[0m \u001b[1;33m=\u001b[0m \u001b[0mpd\u001b[0m\u001b[1;33m.\u001b[0m\u001b[0mDataFrame\u001b[0m\u001b[1;33m(\u001b[0m\u001b[0mdata\u001b[0m\u001b[1;33m,\u001b[0m \u001b[0mcolumns\u001b[0m\u001b[1;33m=\u001b[0m \u001b[1;33m[\u001b[0m\u001b[1;34m'id'\u001b[0m\u001b[1;33m,\u001b[0m\u001b[1;34m'type'\u001b[0m\u001b[1;33m,\u001b[0m\u001b[1;34m'url'\u001b[0m\u001b[1;33m,\u001b[0m\u001b[1;34m'created_at'\u001b[0m\u001b[1;33m,\u001b[0m\u001b[1;34m'company'\u001b[0m\u001b[1;33m,\u001b[0m\u001b[1;34m'company_url'\u001b[0m\u001b[1;33m,\u001b[0m\u001b[1;34m'location'\u001b[0m\u001b[1;33m,\u001b[0m\u001b[1;34m'title'\u001b[0m\u001b[1;33m,\u001b[0m\u001b[1;34m'description'\u001b[0m\u001b[1;33m,\u001b[0m\u001b[1;34m'experience'\u001b[0m\u001b[1;33m,\u001b[0m\u001b[1;34m'framework such as'\u001b[0m\u001b[1;33m,\u001b[0m\u001b[1;34m'Required skills'\u001b[0m\u001b[1;33m,\u001b[0m\u001b[1;34m'knowledge and Abilities'\u001b[0m\u001b[1;33m,\u001b[0m\u001b[1;34m'how_to_apply'\u001b[0m\u001b[1;33m,\u001b[0m\u001b[1;34m'company_logo'\u001b[0m\u001b[1;33m]\u001b[0m\u001b[1;33m)\u001b[0m\u001b[1;33m\u001b[0m\u001b[1;33m\u001b[0m\u001b[0m\n",
      "\u001b[1;31mModuleNotFoundError\u001b[0m: No module named 'mysql'"
     ]
    }
   ],
   "source": [
    "import pandas as pd\n",
    "import mysql\n",
    "import xlrd\n",
    "data = pd.read_excel (r'D:\\dataextraction\\data.xlsx') \n",
    "df = pd.DataFrame(data, columns= ['id','type','url','created_at','company','company_url','location','title','description','experience','framework such as','Required skills','knowledge and Abilities','how_to_apply','company_logo'])\n",
    "print (df)"
   ]
  },
  {
   "cell_type": "code",
   "execution_count": null,
   "metadata": {},
   "outputs": [],
   "source": []
  }
 ],
 "metadata": {
  "kernelspec": {
   "display_name": "Python 3",
   "language": "python",
   "name": "python3"
  },
  "language_info": {
   "codemirror_mode": {
    "name": "ipython",
    "version": 3
   },
   "file_extension": ".py",
   "mimetype": "text/x-python",
   "name": "python",
   "nbconvert_exporter": "python",
   "pygments_lexer": "ipython3",
   "version": "3.7.6"
  }
 },
 "nbformat": 4,
 "nbformat_minor": 4
}
